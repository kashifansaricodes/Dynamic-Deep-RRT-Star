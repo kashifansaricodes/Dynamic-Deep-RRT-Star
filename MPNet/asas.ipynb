{
 "cells": [
  {
   "cell_type": "code",
   "execution_count": 24,
   "metadata": {},
   "outputs": [
    {
     "name": "stdout",
     "output_type": "stream",
     "text": [
      "{0: 177, 1: 174, 10: 176, 100: 98, 101: 104, 102: 129, 103: 186, 104: 165, 105: 177, 106: 153, 107: 118, 108: 167, 109: 94, 11: 183, 110: 174, 111: 173, 112: 169, 113: 75, 114: 187, 115: 157, 116: 157, 117: 162, 118: 83, 119: 188, 12: 162, 120: 169, 121: 86, 122: 185, 123: 158, 124: 151, 125: 183, 126: 179, 127: 163, 128: 183, 129: 159, 13: 176, 130: 31, 131: 172, 132: 175, 133: 113, 134: 127, 135: 72, 136: 185, 137: 73, 138: 166, 139: 101, 14: 172, 140: 173, 141: 98, 142: 94, 143: 186, 144: 170, 145: 183, 146: 116, 147: 191, 148: 83, 149: 188, 15: 149, 150: 186, 151: 192, 152: 174, 153: 174, 154: 182, 155: 186, 156: 186, 157: 179, 158: 177, 159: 157, 16: 183, 160: 185, 161: 105, 162: 178, 163: 182, 164: 183, 165: 63, 166: 117, 167: 156, 168: 186, 169: 174, 17: 162, 170: 140, 171: 101, 172: 182, 173: 155, 174: 96, 175: 180, 176: 140, 177: 186, 178: 180, 179: 176, 18: 172, 180: 183, 181: 64, 182: 184, 183: 172, 184: 182, 185: 168, 186: 182, 187: 175, 188: 88, 189: 1}\n"
     ]
    }
   ],
   "source": [
    "import csv\n",
    "\n",
    "\n",
    "output_file = r\"/home/sj/Deep-RRT-Star-Implementation/output.csv\"\n",
    "path_counts = {}\n",
    "path_count = 0\n",
    "temp = 0\n",
    "with open(output_file, 'r') as file2:\n",
    "    reader = csv.reader(file2)\n",
    "    for row in reader:\n",
    "        if row[-1] == 'image_number':\n",
    "            continue\n",
    "        if len(row) == 5:\n",
    "            environment_number = int(row[-1])\n",
    "            path_count += 1\n",
    "            path_counts[environment_number] = path_count\n",
    "            if temp != environment_number:\n",
    "                path_count = 0\n",
    "            temp = environment_number\n",
    "\n",
    "no_path_file  =  r\"/home/sj/Deep-RRT-Star-Implementation/nopathfile.csv\"\n",
    "for i in range(len(path_counts)):\n",
    "    with open(no_path_file, 'w', newline='') as file:\n",
    "            writer = csv.writer(file)\n",
    "            if file.tell() == 0: # Checks if the file is empty\n",
    "                writer.writerow(['image_number', 'number_of_paths'])\n",
    "            for environment_number, count in path_counts.items():\n",
    "                writer.writerow([environment_number, count])\n",
    "print(path_counts)\n",
    "        \n",
    "        "
   ]
  },
  {
   "cell_type": "code",
   "execution_count": null,
   "metadata": {},
   "outputs": [],
   "source": [
    "output_file = r\"/home/sj/Deep-RRT-Star-Implementation/output.csv\"\n",
    "path_counts = {}\n",
    "path_count = 0\n",
    "temp = 0\n",
    "with open(output_file, 'r') as file2:\n",
    "    reader = csv.reader(file2)"
   ]
  }
 ],
 "metadata": {
  "kernelspec": {
   "display_name": "Python 3",
   "language": "python",
   "name": "python3"
  },
  "language_info": {
   "codemirror_mode": {
    "name": "ipython",
    "version": 3
   },
   "file_extension": ".py",
   "mimetype": "text/x-python",
   "name": "python",
   "nbconvert_exporter": "python",
   "pygments_lexer": "ipython3",
   "version": "3.8.10"
  }
 },
 "nbformat": 4,
 "nbformat_minor": 2
}
