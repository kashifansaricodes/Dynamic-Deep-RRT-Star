{
 "cells": [
  {
   "cell_type": "code",
   "execution_count": 12,
   "metadata": {},
   "outputs": [
    {
     "data": {
      "text/plain": [
       "'C:\\\\Users\\\\sachi\\\\Planning\\\\Deep-RRT-Star-Implementation\\\\Maps2\\\\output_image.png'"
      ]
     },
     "execution_count": 12,
     "metadata": {},
     "output_type": "execute_result"
    }
   ],
   "source": [
    "import os\n",
    "import random\n",
    "from PIL import Image, ImageDraw\n",
    "\n",
    "# Create the output directory if it doesn't exist\n",
    "output_dir = r\"C:\\Users\\sachi\\Planning\\Deep-RRT-Star-Implementation\\Maps2\"\n",
    "os.makedirs(output_dir, exist_ok=True)\n",
    "\n",
    "# Define the size of the image\n",
    "image_size = (12, 12)\n",
    "\n",
    "# Define the total area of the shapes\n",
    "total_area = 4\n",
    "\n",
    "# Define the number of shapes to generate\n",
    "num_shapes = 7\n",
    "\n",
    "# Calculate the area of each shape\n",
    "shape_area = total_area / num_shapes\n",
    "\n",
    "# Create a blank image\n",
    "image = Image.new(\"RGB\", image_size)\n",
    "draw = ImageDraw.Draw(image)\n",
    "\n",
    "# Generate random positions for the shapes\n",
    "positions = [(random.randint(0, image_size[0]), random.randint(0, image_size[1])) for _ in range(num_shapes)]\n",
    "\n",
    "# Generate and draw the shapes\n",
    "for position in positions:\n",
    "    shape_type = random.choice([\"rectangle\", \"square\"])\n",
    "    if shape_type == \"rectangle\":\n",
    "        width = random.randint(1, total_area/2)\n",
    "        if width > 0:\n",
    "            height = shape_area / width\n",
    "            draw.rectangle([position, (position[0] + width, position[1] + height)], fill=\"white\")\n",
    "        else:\n",
    "            height = random.randint(1, total_area/2)\n",
    "            width = shape_area / height\n",
    "            draw.rectangle([position, (position[0] + width, position[1] + height)], fill=\"white\")\n",
    "    elif shape_type == \"square\":\n",
    "        side = int((shape_area) ** 0.5)\n",
    "        draw.rectangle([position, (position[0] + side, position[1] + side)], fill=\"white\")\n",
    "\n",
    "# Save the image\n",
    "output_path = os.path.join(output_dir, \"output_image.png\")\n",
    "image.save(output_path)\n",
    "\n",
    "# Print the output path\n",
    "output_path\n"
   ]
  }
 ],
 "metadata": {
  "kernelspec": {
   "display_name": "Python 3",
   "language": "python",
   "name": "python3"
  },
  "language_info": {
   "codemirror_mode": {
    "name": "ipython",
    "version": 3
   },
   "file_extension": ".py",
   "mimetype": "text/x-python",
   "name": "python",
   "nbconvert_exporter": "python",
   "pygments_lexer": "ipython3",
   "version": "3.11.5"
  }
 },
 "nbformat": 4,
 "nbformat_minor": 2
}
