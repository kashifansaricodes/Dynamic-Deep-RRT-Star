{
 "cells": [
  {
   "cell_type": "code",
   "execution_count": 24,
   "metadata": {},
   "outputs": [
    {
     "name": "stdout",
     "output_type": "stream",
     "text": [
      "{0: 177, 1: 174, 10: 176, 100: 98, 101: 104, 102: 129, 103: 186, 104: 165, 105: 177, 106: 153, 107: 118, 108: 167, 109: 94, 11: 183, 110: 174, 111: 173, 112: 169, 113: 75, 114: 187, 115: 157, 116: 157, 117: 162, 118: 83, 119: 188, 12: 162, 120: 169, 121: 86, 122: 185, 123: 158, 124: 151, 125: 183, 126: 179, 127: 163, 128: 183, 129: 159, 13: 176, 130: 31, 131: 172, 132: 175, 133: 113, 134: 127, 135: 72, 136: 185, 137: 73, 138: 166, 139: 101, 14: 172, 140: 173, 141: 98, 142: 94, 143: 186, 144: 170, 145: 183, 146: 116, 147: 191, 148: 83, 149: 188, 15: 149, 150: 186, 151: 192, 152: 174, 153: 174, 154: 182, 155: 186, 156: 186, 157: 179, 158: 177, 159: 157, 16: 183, 160: 185, 161: 105, 162: 178, 163: 182, 164: 183, 165: 63, 166: 117, 167: 156, 168: 186, 169: 174, 17: 162, 170: 140, 171: 101, 172: 182, 173: 155, 174: 96, 175: 180, 176: 140, 177: 186, 178: 180, 179: 176, 18: 172, 180: 183, 181: 64, 182: 184, 183: 172, 184: 182, 185: 168, 186: 182, 187: 175, 188: 88, 189: 1}\n"
     ]
    }
   ],
   "source": [
    "import csv\n",
    "\n",
    "\n",
    "output_file = r\"/home/sj/Deep-RRT-Star-Implementation/output.csv\"\n",
    "path_counts = {}\n",
    "path_count = 0\n",
    "temp = 0\n",
    "with open(output_file, 'r') as file2:\n",
    "    reader = csv.reader(file2)\n",
    "    for row in reader:\n",
    "        if row[-1] == 'image_number':\n",
    "            continue\n",
    "        if len(row) == 5:\n",
    "            environment_number = int(row[-1])\n",
    "            path_count += 1\n",
    "            path_counts[environment_number] = path_count\n",
    "            if temp != environment_number:\n",
    "                path_count = 0\n",
    "            temp = environment_number\n",
    "\n",
    "no_path_file  =  r\"/home/sj/Deep-RRT-Star-Implementation/data_amend/nopathfile.csv\"\n",
    "for i in range(len(path_counts)):\n",
    "    with open(no_path_file, 'w', newline='') as file:\n",
    "            writer = csv.writer(file)\n",
    "            if file.tell() == 0: # Checks if the file is empty\n",
    "                writer.writerow(['image_number', 'number_of_paths'])\n",
    "            for environment_number, count in path_counts.items():\n",
    "                writer.writerow([environment_number, count])\n",
    "print(path_counts)\n",
    "        \n",
    "        "
   ]
  },
  {
   "cell_type": "code",
   "execution_count": 1,
   "metadata": {},
   "outputs": [
    {
     "ename": "NameError",
     "evalue": "name 'csv' is not defined",
     "output_type": "error",
     "traceback": [
      "\u001b[0;31m---------------------------------------------------------------------------\u001b[0m",
      "\u001b[0;31mNameError\u001b[0m                                 Traceback (most recent call last)",
      "Cell \u001b[0;32mIn[1], line 3\u001b[0m\n\u001b[1;32m      1\u001b[0m output_file \u001b[38;5;241m=\u001b[39m \u001b[38;5;124mr\u001b[39m\u001b[38;5;124m\"\u001b[39m\u001b[38;5;124m/home/sj/Deep-RRT-Star-Implementation/new_path_creator.csv\u001b[39m\u001b[38;5;124m\"\u001b[39m\n\u001b[1;32m      2\u001b[0m \u001b[38;5;28;01mwith\u001b[39;00m \u001b[38;5;28mopen\u001b[39m(output_file, \u001b[38;5;124m'\u001b[39m\u001b[38;5;124mw\u001b[39m\u001b[38;5;124m'\u001b[39m, newline\u001b[38;5;241m=\u001b[39m\u001b[38;5;124m'\u001b[39m\u001b[38;5;124m'\u001b[39m) \u001b[38;5;28;01mas\u001b[39;00m file:\n\u001b[0;32m----> 3\u001b[0m         writer \u001b[38;5;241m=\u001b[39m \u001b[43mcsv\u001b[49m\u001b[38;5;241m.\u001b[39mwriter(file)\n\u001b[1;32m      5\u001b[0m \u001b[38;5;28;01mimport\u001b[39;00m \u001b[38;5;21;01mos\u001b[39;00m\n\u001b[1;32m      6\u001b[0m \u001b[38;5;28;01mimport\u001b[39;00m \u001b[38;5;21;01mcv2\u001b[39;00m\n",
      "\u001b[0;31mNameError\u001b[0m: name 'csv' is not defined"
     ]
    }
   ],
   "source": [
    "import os\n",
    "import cv2\n",
    "import numpy as np\n",
    "import random\n",
    "import csv\n",
    "import os\n",
    "\n",
    "# Set the path to the images folder\n",
    "images_folder = r\"C:\\Users\\sachi\\Planning\\Deep-RRT-Star-Implementation\\images\"\n",
    "\n",
    "\n",
    "output_file = r\"/home/sj/Deep-RRT-Star-Implementation/data_amend/nopathfile.csv\"\n",
    "# Create a list to store the image paths\n",
    "image_paths = []\n",
    "with open(output_file, 'r') as file2:\n",
    "    reader = csv.reader(file2)\n",
    "    for row in reader:\n",
    "        if row[-1] == 'number_of_paths':\n",
    "            continue\n",
    "\n",
    "    # m is the number of start and goal points to generate for each image\n",
    "    m = int(row[-1])\n",
    "\n",
    "    image_path = r\"/home/sj/Deep-RRT-Star-Implementation/images\" + str(row[0]) + \".jpg\"\n",
    "    # Create a list to store the start and goal points\n",
    "    points = []\n",
    "\n",
    "    def get_random_point(img):\n",
    "        # Generate random x and y coordinates\n",
    "        start_x = random.randint(0, width - 10)\n",
    "        start_y = random.randint(0, height - 10)\n",
    "        goal_x = random.randint(0, width - 10)\n",
    "        goal_y = random.randint(0, height - 10)\n",
    "        return start_x, start_y, goal_x, goal_y\n",
    "\n",
    "    # Read the image\n",
    "    img = cv2.imread(image_path, cv2.IMREAD_GRAYSCALE)\n",
    "    \n",
    "    # Get the height and width of the image\n",
    "    height, width = img.shape\n",
    "\n",
    "    # Generate m random start and goal points\n",
    "    for _ in range(m):\n",
    "\n",
    "        # Get random start and goal points\n",
    "        start_x, start_y, goal_x, goal_y = get_random_point(img)\n",
    "\n",
    "        # Continue sampling until both start and goal points are white (255)\n",
    "        while img[start_y, start_x] != 255 or img[goal_y, goal_x] != 255:\n",
    "            start_x, start_y, goal_x, goal_y = get_random_point(img)\n",
    "\n",
    "        file_name = os.path.basename(image_path)\n",
    "\n",
    "        # Append the start and goal points to the list\n",
    "        points.append([start_x, start_y, goal_x, goal_y, file_name[:-4]])\n",
    "\n",
    "    # Set the path to the CSV file\n",
    "    csv_file = r\"/home/sj/Deep-RRT-Star-Implementation/data_amend/new_points.csv\"\n",
    "\n",
    "    # Write the start and goal points to the CSV file\n",
    "    with open(csv_file, 'w', newline='') as file:\n",
    "        writer = csv.writer(file)\n",
    "        writer.writerow(['startx', 'starty', 'goalx', 'goaly', 'imagenumber'])\n",
    "        writer.writerows(points)\n",
    "        print(\"writing\")\n",
    "\n",
    "    print(f\"Successfully generated {m} start and goal points for each image and saved them to {csv_file}.\")\n",
    "\n"
   ]
  }
 ],
 "metadata": {
  "kernelspec": {
   "display_name": "Python 3",
   "language": "python",
   "name": "python3"
  },
  "language_info": {
   "codemirror_mode": {
    "name": "ipython",
    "version": 3
   },
   "file_extension": ".py",
   "mimetype": "text/x-python",
   "name": "python",
   "nbconvert_exporter": "python",
   "pygments_lexer": "ipython3",
   "version": "3.8.10"
  }
 },
 "nbformat": 4,
 "nbformat_minor": 2
}
